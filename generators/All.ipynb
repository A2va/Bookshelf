{
 "cells": [
  {
   "cell_type": "code",
   "execution_count": 1,
   "metadata": {},
   "outputs": [],
   "source": [
    "import os\n",
    "from numpy import *\n",
    "\n",
    "glib_path = os.path.abspath(\"../datapacks/Glib\")\n",
    "data_path = f\"{glib_path}/data\"\n",
    "module_path = data_path + \"/{m}/functions\""
   ]
  },
  {
   "cell_type": "markdown",
   "metadata": {},
   "source": [
    "# `glib.block` & `Glib.item` search trees\n"
   ]
  },
  {
   "cell_type": "code",
   "execution_count": null,
   "metadata": {},
   "outputs": [],
   "source": [
    "os.system(f\"python ./block_converter/main.py\")"
   ]
  },
  {
   "cell_type": "markdown",
   "metadata": {},
   "source": [
    "# `_` functions\n",
    "\n",
    "Generate \"_\" functions that allow to determine which modules are active or not. They also allow to fix the autocompletion for the user."
   ]
  },
  {
   "cell_type": "code",
   "execution_count": 2,
   "metadata": {},
   "outputs": [],
   "source": [
    "exclude_module = [\"glib\", \"glib.core\", \"minecraft\"]\n",
    "\n",
    "# Generating all \"_\" functions\n",
    "for module in os.listdir(data_path):\n",
    "    if module in exclude_module: continue\n",
    "    module_type, module_name = module.split(\".\")\n",
    "    if not os.path.isdir(module_path.format(m=module)): os.makedirs(module_path.format(m=module))\n",
    "\n",
    "    with open(f\"{module_path.format(m=module)}/_.mcfunction\",\"w\") as f:\n",
    "        msg = {\"text\":f\"[{module} documentation]\",\"color\":\"dark_aqua\",\"clickEvent\":{\"action\":\"open_url\",\"value\":f\"https://glibs.rtfd.io/en/latest/{module_name}.html\"},\"hoverEvent\":{\"action\":\"show_text\",\"contents\":\"Click to open URL\"}}\n",
    "        f.write(f\"tellraw @s [{msg}]\\n\".replace(\"'\",'\"'))\n",
    "        f.write(f\"scoreboard players set {module} glib.activeModule 1\")\n",
    "\n",
    "# Generating glib.core:load.mcfunction\n",
    "with open(f\"{data_path}/glib.core/functions/load.mcfunction\", \"r\") as old, open(f\"{data_path}/glib.core/functions/load_tmp.mcfunction\", \"w\") as new:\n",
    "    for line in old:\n",
    "        new.write(line)\n",
    "        if line.startswith(\"# Module list\"): break\n",
    "    for module in os.listdir(f\"{glib_path}/data\"):\n",
    "        if module in exclude_module: continue\n",
    "        new.write(f\"function {module}:_\\n\")\n",
    "os.remove(f\"{data_path}/glib.core/functions/load.mcfunction\")\n",
    "os.rename(f\"{data_path}/glib.core/functions/load_tmp.mcfunction\", f\"{data_path}/glib.core/functions/load.mcfunction\")"
   ]
  },
  {
   "cell_type": "markdown",
   "metadata": {},
   "source": [
    "# Menu > Debug\n",
    "\n",
    "Allow to add/remove tags to debug systems"
   ]
  },
  {
   "cell_type": "code",
   "execution_count": 2,
   "metadata": {},
   "outputs": [],
   "source": [
    "import libs.menu as menu\n",
    "\n",
    "exclude_module = [\"glib\", \"glib.core\", \"minecraft\"]\n",
    "\n",
    "modules = []\n",
    "modules.append((\"Debug stick\",\"tag\",\"glib.debug.stick\"))\n",
    "modules.append((\" \",\"text\",None))\n",
    "\n",
    "for module in os.listdir(data_path):\n",
    "    if module in exclude_module: continue\n",
    "    modules.append((module, \"tag\", f\"glib.debug.{module.split('.')[1]}\"))\n",
    "\n",
    "menu.paged_menu(\n",
    "    dest = \"../datapacks/Glib/data/glib.core/functions/menu/debug.mcfunction\",\n",
    "    title=\"Glib Menu / Debug\",\n",
    "    menu_tag = \"glib.menu.debug\",\n",
    "    parent_menu_tag = \"glib.menu\",\n",
    "    items = modules,\n",
    "    maxLine=20\n",
    ")\n"
   ]
  }
 ],
 "metadata": {
  "kernelspec": {
   "display_name": "Python 3.10.5 64-bit (windows store)",
   "language": "python",
   "name": "python3"
  },
  "language_info": {
   "codemirror_mode": {
    "name": "ipython",
    "version": 3
   },
   "file_extension": ".py",
   "mimetype": "text/x-python",
   "name": "python",
   "nbconvert_exporter": "python",
   "pygments_lexer": "ipython3",
   "version": "3.10.5"
  },
  "orig_nbformat": 4,
  "vscode": {
   "interpreter": {
    "hash": "e0d398e7c3cc3d2b8386dfea47f5eae3378d5d39db7e2c8ef87e93246db0bfd2"
   }
  }
 },
 "nbformat": 4,
 "nbformat_minor": 2
}
