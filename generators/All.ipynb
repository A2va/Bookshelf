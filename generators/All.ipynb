{
 "cells": [
  {
   "cell_type": "code",
   "execution_count": 7,
   "metadata": {},
   "outputs": [],
   "source": [
    "import os\n",
    "\n",
    "glib_path = os.path.abspath(\"../datapacks/Glib\")"
   ]
  },
  {
   "cell_type": "markdown",
   "metadata": {},
   "source": [
    "<div align=center>\n",
    "\n",
    "---\n",
    "\n",
    "# `glib.block` & `Glib.item` search trees\n",
    "\n",
    "</div>"
   ]
  },
  {
   "cell_type": "code",
   "execution_count": null,
   "metadata": {},
   "outputs": [],
   "source": [
    "os.system(f\"python ./block_converter/main.py\")"
   ]
  },
  {
   "cell_type": "markdown",
   "metadata": {},
   "source": [
    "<div align=center>\n",
    "\n",
    "---\n",
    "\n",
    "# \"_\" functions\n",
    "\n",
    "Generate \"_\" functions that allow to determine which modules are active or not. They also allow to fix the autocompletion for the user.\n",
    "\n",
    "</div>"
   ]
  },
  {
   "cell_type": "code",
   "execution_count": 20,
   "metadata": {},
   "outputs": [],
   "source": [
    "exclude_module = [\"glib\", \"glib.core\", \"minecraft\"]\n",
    "\n",
    "# Generating all \"_\" functions\n",
    "for module in os.listdir(f\"{glib_path}/data\"):\n",
    "    if module in exclude_module: continue\n",
    "    module_type, module_name = module.split(\".\")\n",
    "    if not os.path.isdir(f\"{glib_path}/data/{module}/functions/\"): os.makedirs(f\"{glib_path}/data/{module}/functions/\")\n",
    "\n",
    "    with open(f\"{glib_path}/data/{module}/functions/_.mcfunction\",\"w\") as f:\n",
    "        msg = {\"text\":f\"[{module} documentation]\",\"color\":\"dark_aqua\",\"clickEvent\":{\"action\":\"open_url\",\"value\":f\"https://glibs.rtfd.io/en/latest/{module_name}.html\"},\"hoverEvent\":{\"action\":\"show_text\",\"contents\":\"Click to open URL\"}}\n",
    "        f.write(f\"tellraw @s [{msg}]\\n\".replace(\"'\",'\"'))\n",
    "        f.write(f\"scoreboard players set {module} glib.activeModule 1\")\n",
    "\n",
    "# Generating glib.core:load.mcfunction\n",
    "with open(f\"{glib_path}/data/glib.core/functions/load.mcfunction\", \"r\") as old, open(f\"{glib_path}/data/glib.core/functions/load_tmp.mcfunction\", \"w\") as new:\n",
    "    for line in old:\n",
    "        new.write(line)\n",
    "        if line.startswith(\"# Module list\"): break\n",
    "    for module in os.listdir(f\"{glib_path}/data\"):\n",
    "        if module in exclude_module: continue\n",
    "        new.write(f\"function {module}:_\\n\")\n",
    "os.remove(f\"{glib_path}/data/glib.core/functions/load.mcfunction\")\n",
    "os.rename(f\"{glib_path}/data/glib.core/functions/load_tmp.mcfunction\", f\"{glib_path}/data/glib.core/functions/load.mcfunction\")"
   ]
  }
 ],
 "metadata": {
  "kernelspec": {
   "display_name": "Python 3.10.5 64-bit (windows store)",
   "language": "python",
   "name": "python3"
  },
  "language_info": {
   "codemirror_mode": {
    "name": "ipython",
    "version": 3
   },
   "file_extension": ".py",
   "mimetype": "text/x-python",
   "name": "python",
   "nbconvert_exporter": "python",
   "pygments_lexer": "ipython3",
   "version": "3.10.5"
  },
  "orig_nbformat": 4,
  "vscode": {
   "interpreter": {
    "hash": "e0d398e7c3cc3d2b8386dfea47f5eae3378d5d39db7e2c8ef87e93246db0bfd2"
   }
  }
 },
 "nbformat": 4,
 "nbformat_minor": 2
}
