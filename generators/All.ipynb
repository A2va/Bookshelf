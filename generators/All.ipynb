{
 "cells": [
  {
   "cell_type": "code",
   "execution_count": 1,
   "metadata": {},
   "outputs": [],
   "source": [
    "import os\n",
    "from numpy import *\n",
    "\n",
    "glib_path = os.path.abspath(\"../datapacks/Glib\")\n",
    "data_path = f\"{glib_path}/data\"\n",
    "module_path = data_path + \"/{m}/functions\""
   ]
  },
  {
   "cell_type": "markdown",
   "metadata": {},
   "source": [
    "# `glib.block` & `Glib.item` search trees\n"
   ]
  },
  {
   "cell_type": "code",
   "execution_count": null,
   "metadata": {},
   "outputs": [],
   "source": [
    "os.system(f\"python ./block_converter/main.py\")"
   ]
  },
  {
   "cell_type": "markdown",
   "metadata": {},
   "source": [
    "# `_` functions\n",
    "\n",
    "Generate \"_\" functions that allow to determine which modules are active or not. They also allow to fix the autocompletion for the user."
   ]
  },
  {
   "cell_type": "code",
   "execution_count": 3,
   "metadata": {},
   "outputs": [],
   "source": [
    "exclude_module = [\"glib\", \"glib.core\", \"minecraft\"]\n",
    "\n",
    "# Generating all \"_\" functions\n",
    "for module in os.listdir(data_path):\n",
    "    if module in exclude_module: continue\n",
    "    module_type, module_name = module.split(\".\")\n",
    "    if not os.path.isdir(module_path.format(m=module)): os.makedirs(module_path.format(m=module))\n",
    "\n",
    "    with open(f\"{module_path.format(m=module)}/_.mcfunction\",\"w\") as f:\n",
    "        msg = {\"text\":f\"[{module} documentation]\",\"color\":\"dark_aqua\",\"clickEvent\":{\"action\":\"open_url\",\"value\":f\"https://glibs.rtfd.io/en/latest/{module_name}.html\"},\"hoverEvent\":{\"action\":\"show_text\",\"contents\":\"Click to open URL\"}}\n",
    "        f.write(f\"tellraw @s [{msg}]\\n\".replace(\"'\",'\"'))\n",
    "        f.write(f\"scoreboard players set {module} glib.activeModule 1\")\n",
    "\n",
    "# Generating glib.core:load.mcfunction\n",
    "with open(f\"{data_path}/glib.core/functions/load.mcfunction\", \"r\") as old, open(f\"{data_path}/glib.core/functions/load_tmp.mcfunction\", \"w\") as new:\n",
    "    for line in old:\n",
    "        new.write(line)\n",
    "        if line.startswith(\"# Module list\"): break\n",
    "    for module in os.listdir(f\"{glib_path}/data\"):\n",
    "        if module in exclude_module: continue\n",
    "        new.write(f\"function {module}:_\\n\")\n",
    "os.remove(f\"{data_path}/glib.core/functions/load.mcfunction\")\n",
    "os.rename(f\"{data_path}/glib.core/functions/load_tmp.mcfunction\", f\"{data_path}/glib.core/functions/load.mcfunction\")"
   ]
  },
  {
   "cell_type": "markdown",
   "metadata": {},
   "source": [
    "# Menu > Debug\n",
    "\n",
    "Allow to add/remove tags to debug systems"
   ]
  },
  {
   "cell_type": "code",
   "execution_count": 9,
   "metadata": {},
   "outputs": [
    {
     "name": "stdout",
     "output_type": "stream",
     "text": [
      "Menus builded successfully!\n",
      "Now, put the following command in a loop:\n",
      "execute if entity @a[tag=glib.menu.active] run function glib.core:menu\n"
     ]
    }
   ],
   "source": [
    "import libs.menu as menu\n",
    "\n",
    "group_tag = \"glib.menu.active\"\n",
    "menus = []\n",
    "\n",
    "###############\n",
    "# Menu / Main #\n",
    "###############\n",
    "              \n",
    "menus.append((\"glib.menu\",\"glib.core:menu/main\"))\n",
    "\n",
    "items = []\n",
    "items.append((\"Debug\",              \"submenu\",  \"glib.menu.debug\"               ))\n",
    "items.append((\" \",                  \"text\"                                      ))\n",
    "items.append((\"Documentation\",      \"link\",     \"https://glibs.rtfd.io\"         ))\n",
    "items.append((\" \",                  \"text\"                                      ))\n",
    "items.append((\"Official website\",   \"link\",     \"https://glib.gunivers.net\"     ))\n",
    "items.append((\" \",                  \"text\"                                      ))\n",
    "items.append((\"Our Discord\",        \"link\",     \"https://discord.gg/E8qq6tN\"    ))\n",
    "items.append((\" \",                  \"text\"                                      ))\n",
    "items.append((\"Support us\",         \"link\",     \"https://discord.gg/E8qq6tN\"    ))\n",
    "\n",
    "menu.paged_menu(\n",
    "    dest = f\"{data_path}/glib.core/functions/menu/main.mcfunction\",\n",
    "    title=\"Glib Menu\",\n",
    "    menu_tag = \"glib.menu\",\n",
    "    group_tag = group_tag,\n",
    "    items = items,\n",
    "    exit_msg = str([{\"text\":\"\\n\"*18},\n",
    "                        {\"text\":\" Thank you for using Glibs!\\n\",\"color\":\"dark_aqua\",\"bold\":True},\n",
    "                        {\"text\":\" Share us your creations on twitter! \",\"color\":\"gray\"},\n",
    "                        {\"text\":\"@Gunivers_\\n\",\"color\":\"gold\",\n",
    "                            \"clickEvent\":{\"action\":\"open_url\",\"value\":\"https://twitter.com/Gunivers_\"},\n",
    "                            \"hoverEvent\":{\"action\":\"show_text\",\"contents\":\"Visit our Twitter page\"}}\n",
    "                    ]).replace(\"'\",'\"').replace('True','true')\n",
    ")\n",
    "\n",
    "################\n",
    "# Menu / Debug #\n",
    "################\n",
    "\n",
    "menus.append((\"glib.menu.debug\",\"glib.core:menu/debug\"))\n",
    "\n",
    "exclude_module = [\"glib\", \"glib.core\", \"minecraft\"]\n",
    "\n",
    "items = []\n",
    "items.append((\"Debug stick\",\"tag\",\"glib.debug.stick\"))\n",
    "items.append((\" \",\"text\"))\n",
    "\n",
    "for module_full in os.listdir(data_path):\n",
    "    if module_full in exclude_module: continue\n",
    "    module = module_full.split(\".\")[1]\n",
    "    items.append((module, \"submenu\", f\"glib.menu.debug.{module}\"))\n",
    "\n",
    "    menus.append((f\"glib.menu.debug.{module}\",f\"glib.core:menu/debug/{module}\"))\n",
    "    module_items = []\n",
    "    for item in os.listdir(module_path.format(m=module_full)):\n",
    "        path_item = f\"{module_path.format(m=module_full)}/{item}\"\n",
    "        if (os.path.isdir(path_item) and os.path.isfile(f\"{path_item}.mcfunction\"))\\\n",
    "            or (os.path.isdir(path_item) and os.path.isfile(f\"{path_item}_ata.mcfunction\"))\\\n",
    "            or (os.path.isdir(path_item) and os.path.isfile(f\"{path_item}_tti.mcfunction\"))\\\n",
    "            or item in [\"_.mcfunction\", \"child\", \"accuracy\", \"config\", \"debug\", \"global\"]: continue\n",
    "        \n",
    "        if os.path.isfile(path_item): module_items.append((item.replace(\".mcfunction\",\"\"), \"tag\", f\"glib.debug.{module}.{item.replace('.mcfunction','')}\"))\n",
    "        if os.path.isdir(path_item):\n",
    "            module_items.append((item, \"submenu\", f\"glib.menu.debug.{module}.{item}\"))\n",
    "\n",
    "            menus.append((f\"glib.menu.debug.{module}.{item}\",f\"glib.core:menu/debug/{module}/{item}\"))\n",
    "            submodule_items = []\n",
    "            for subitem in os.listdir(path_item):\n",
    "                if os.path.isfile(f\"{path_item}/{subitem}\") and subitem != \"_.mcfunction\":\n",
    "                    submodule_items.append((subitem.replace(\".mcfunction\",\"\"), \"tag\", f\"glib.debug.{module}.{item}.{subitem.replace('.mcfunction','')}\"))\n",
    "\n",
    "            menu.paged_menu(\n",
    "                dest = f\"{data_path}/glib.core/functions/menu/debug/{module}/{item}.mcfunction\",\n",
    "                title=f\"Glib Menu / Debug / {module} / {item}\",\n",
    "                menu_tag = f\"glib.menu.debug.{module}.{item}\",\n",
    "                parent_menu_tag = f\"glib.menu.debug.{module}\",\n",
    "                group_tag = group_tag,\n",
    "                items = submodule_items\n",
    "            )\n",
    "            \n",
    "\n",
    "    menu.paged_menu(\n",
    "        dest = f\"{data_path}/glib.core/functions/menu/debug/{module}.mcfunction\",\n",
    "        title=f\"Glib Menu / Debug / {module}\",\n",
    "        menu_tag = f\"glib.menu.debug.{module}\",\n",
    "        parent_menu_tag = \"glib.menu.debug\",\n",
    "        group_tag = group_tag,\n",
    "        items = module_items\n",
    "    )\n",
    "\n",
    "menu.paged_menu(\n",
    "    dest = f\"{data_path}/glib.core/functions/menu/debug.mcfunction\",\n",
    "    title=\"Glib Menu / Debug\",\n",
    "    menu_tag = \"glib.menu.debug\",\n",
    "    parent_menu_tag = \"glib.menu\",\n",
    "    group_tag = group_tag,\n",
    "    items = items\n",
    ")\n",
    "\n",
    "\n",
    "\n",
    "\n",
    "dest = f\"{data_path}/glib.core/functions/menu.mcfunction\"\n",
    "menu.build(menus, dest = dest)\n",
    "\n",
    "namespace = dest.split(\"data/\")[1].split(\"/\")[0]\n",
    "function = dest.split(\"functions/\")[1].replace(\".mcfunction\",\"\")\n",
    "print(f'Menus builded successfully!\\nNow, put the following command in a loop:\\nexecute if entity @a[tag={group_tag}] run function {namespace}:{function}')"
   ]
  }
 ],
 "metadata": {
  "kernelspec": {
   "display_name": "Python 3.10.5 64-bit (windows store)",
   "language": "python",
   "name": "python3"
  },
  "language_info": {
   "codemirror_mode": {
    "name": "ipython",
    "version": 3
   },
   "file_extension": ".py",
   "mimetype": "text/x-python",
   "name": "python",
   "nbconvert_exporter": "python",
   "pygments_lexer": "ipython3",
   "version": "3.10.5"
  },
  "orig_nbformat": 4,
  "vscode": {
   "interpreter": {
    "hash": "e0d398e7c3cc3d2b8386dfea47f5eae3378d5d39db7e2c8ef87e93246db0bfd2"
   }
  }
 },
 "nbformat": 4,
 "nbformat_minor": 2
}
